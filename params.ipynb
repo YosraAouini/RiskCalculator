{
 "cells": [
  {
   "cell_type": "code",
   "execution_count": 1,
   "metadata": {},
   "outputs": [],
   "source": [
    "import pandas as pd\n",
    "import numpy as np"
   ]
  },
  {
   "cell_type": "code",
   "execution_count": 2,
   "metadata": {},
   "outputs": [],
   "source": [
    "Safety_Buffer=10/100.0"
   ]
  },
  {
   "cell_type": "code",
   "execution_count": 3,
   "metadata": {},
   "outputs": [],
   "source": [
    "times=['20:30','21:30','22:30','23:00','00:30','01:30','02:00','03:00','04:00','05:00']"
   ]
  },
  {
   "cell_type": "code",
   "execution_count": 4,
   "metadata": {},
   "outputs": [],
   "source": [
    "Hours_of_Processing_list=[0.5,1.5,2.25,3.25,4.75,5.75,6,6.25,7,8]\n",
    "Hours_of_Processing=pd.DataFrame(list(zip(times,Hours_of_Processing_list)),columns=['times','coef_hours_of_processing'])\n",
    "\n",
    "coef_hours_of_processing_list=[]\n",
    "for i in range(len(times)):\n",
    "\tx = Hours_of_Processing[Hours_of_Processing.times==times[i]].coef_hours_of_processing.tolist()\n",
    "\tcoef_hours_of_processing_list.append(x)\n",
    "\n",
    "coef_hours_of_processing = [item for sublist in coef_hours_of_processing_list for item in sublist]\n"
   ]
  },
  {
   "cell_type": "code",
   "execution_count": 5,
   "metadata": {},
   "outputs": [
    {
     "data": {
      "text/plain": [
       "[0.5, 1.5, 2.25, 3.25, 4.75, 5.75, 6.0, 6.25, 7.0, 8.0]"
      ]
     },
     "execution_count": 5,
     "metadata": {},
     "output_type": "execute_result"
    }
   ],
   "source": [
    "coef_hours_of_processing"
   ]
  },
  {
   "cell_type": "code",
   "execution_count": null,
   "metadata": {},
   "outputs": [],
   "source": [
    "params_tab = pd.DataFrame({\n",
    "        'process_path_name':['PPPickToRebin','PPSingleMix','PPMultiFloorZone','PPSingleFloor','PPMutliBldgWideZone'],\n",
    "        'process_path_abrev_name': ['P2R','SM','MFZ','SF','MBWZ'],\n",
    "        'rate': [130,155,115,60,150],\n",
    "        'PlannedHC': [60,7,3,5,5],\n",
    "        })"
   ]
  }
 ],
 "metadata": {
  "kernelspec": {
   "display_name": "Python 3",
   "language": "python",
   "name": "python3"
  },
  "language_info": {
   "codemirror_mode": {
    "name": "ipython",
    "version": 3
   },
   "file_extension": ".py",
   "mimetype": "text/x-python",
   "name": "python",
   "nbconvert_exporter": "python",
   "pygments_lexer": "ipython3",
   "version": "3.8.5"
  }
 },
 "nbformat": 4,
 "nbformat_minor": 4
}
