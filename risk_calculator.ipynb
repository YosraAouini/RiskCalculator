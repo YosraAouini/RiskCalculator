{
 "cells": [
  {
   "cell_type": "code",
   "execution_count": 10,
   "metadata": {},
   "outputs": [],
   "source": [
    "import pandas as pd\n",
    "import numpy as np\n",
    "from datetime import *\n",
    "import openpyxl\n",
    "import seaborn as sns"
   ]
  },
  {
   "cell_type": "code",
   "execution_count": 11,
   "metadata": {},
   "outputs": [],
   "source": [
    "run params.ipynb # import parameters "
   ]
  },
  {
   "cell_type": "code",
   "execution_count": 12,
   "metadata": {},
   "outputs": [],
   "source": [
    "run functions.ipynb # import functions"
   ]
  },
  {
   "cell_type": "code",
   "execution_count": 13,
   "metadata": {},
   "outputs": [],
   "source": [
    "calculation_date='2021-05-16'"
   ]
  },
  {
   "cell_type": "code",
   "execution_count": 14,
   "metadata": {},
   "outputs": [],
   "source": [
    "# Import the data \n",
    "parse_dates = ['ExSD']\n",
    "Exd=pd.read_csv('Exd.csv',header=0, delimiter=\",\", parse_dates=parse_dates)\n",
    "Exd = Exd.rename(columns={'Process Path':'Process_Path','Work Pool':'Work_Pool'})\n"
   ]
  },
  {
   "cell_type": "code",
   "execution_count": 15,
   "metadata": {},
   "outputs": [
    {
     "data": {
      "text/html": [
       "<div>\n",
       "<style scoped>\n",
       "    .dataframe tbody tr th:only-of-type {\n",
       "        vertical-align: middle;\n",
       "    }\n",
       "\n",
       "    .dataframe tbody tr th {\n",
       "        vertical-align: top;\n",
       "    }\n",
       "\n",
       "    .dataframe thead th {\n",
       "        text-align: right;\n",
       "    }\n",
       "</style>\n",
       "<table border=\"1\" class=\"dataframe\">\n",
       "  <thead>\n",
       "    <tr style=\"text-align: right;\">\n",
       "      <th></th>\n",
       "      <th>Process_Path</th>\n",
       "      <th>Work_Pool</th>\n",
       "      <th>ExSD</th>\n",
       "      <th>Quantity</th>\n",
       "    </tr>\n",
       "  </thead>\n",
       "  <tbody>\n",
       "    <tr>\n",
       "      <th>0</th>\n",
       "      <td>PPSingleMix</td>\n",
       "      <td>PickingPickedAtDestination</td>\n",
       "      <td>2021-05-16 11:00:00</td>\n",
       "      <td>32</td>\n",
       "    </tr>\n",
       "    <tr>\n",
       "      <th>1</th>\n",
       "      <td>PPMultiGiftWrapZone</td>\n",
       "      <td>PickingPicked</td>\n",
       "      <td>2021-05-16 21:30:00</td>\n",
       "      <td>1</td>\n",
       "    </tr>\n",
       "    <tr>\n",
       "      <th>2</th>\n",
       "      <td>PPSingleMix</td>\n",
       "      <td>PickingNotYetPickedNotPrioritized</td>\n",
       "      <td>2021-05-18 20:30:00</td>\n",
       "      <td>200</td>\n",
       "    </tr>\n",
       "    <tr>\n",
       "      <th>3</th>\n",
       "      <td>PPMutliBldgWideZone</td>\n",
       "      <td>PickingPickedAtDestination</td>\n",
       "      <td>2021-05-17 14:00:00</td>\n",
       "      <td>2</td>\n",
       "    </tr>\n",
       "    <tr>\n",
       "      <th>4</th>\n",
       "      <td>PPSingleFloor</td>\n",
       "      <td>ManifestPending</td>\n",
       "      <td>2021-05-17 01:30:00</td>\n",
       "      <td>33</td>\n",
       "    </tr>\n",
       "  </tbody>\n",
       "</table>\n",
       "</div>"
      ],
      "text/plain": [
       "          Process_Path                          Work_Pool                ExSD  \\\n",
       "0          PPSingleMix         PickingPickedAtDestination 2021-05-16 11:00:00   \n",
       "1  PPMultiGiftWrapZone                      PickingPicked 2021-05-16 21:30:00   \n",
       "2          PPSingleMix  PickingNotYetPickedNotPrioritized 2021-05-18 20:30:00   \n",
       "3  PPMutliBldgWideZone         PickingPickedAtDestination 2021-05-17 14:00:00   \n",
       "4        PPSingleFloor                    ManifestPending 2021-05-17 01:30:00   \n",
       "\n",
       "   Quantity  \n",
       "0        32  \n",
       "1         1  \n",
       "2       200  \n",
       "3         2  \n",
       "4        33  "
      ]
     },
     "execution_count": 15,
     "metadata": {},
     "output_type": "execute_result"
    }
   ],
   "source": [
    "Exd.head()"
   ]
  },
  {
   "cell_type": "code",
   "execution_count": 16,
   "metadata": {},
   "outputs": [
    {
     "data": {
      "text/html": [
       "<style  type=\"text/css\" >\n",
       "#T_f470c9de_eec5_11eb_8be9_087190122595row0_col5{\n",
       "            background-color:  #b22833;\n",
       "            color:  #f1f1f1;\n",
       "        }#T_f470c9de_eec5_11eb_8be9_087190122595row1_col5{\n",
       "            background-color:  #3e7867;\n",
       "            color:  #000000;\n",
       "        }#T_f470c9de_eec5_11eb_8be9_087190122595row2_col5{\n",
       "            background-color:  #c35a63;\n",
       "            color:  #000000;\n",
       "        }#T_f470c9de_eec5_11eb_8be9_087190122595row3_col5{\n",
       "            background-color:  #286956;\n",
       "            color:  #f1f1f1;\n",
       "        }#T_f470c9de_eec5_11eb_8be9_087190122595row4_col5{\n",
       "            background-color:  #49806f;\n",
       "            color:  #000000;\n",
       "        }</style><table id=\"T_f470c9de_eec5_11eb_8be9_087190122595\" ><thead>    <tr>        <th class=\"blank level0\" ></th>        <th class=\"col_heading level0 col0\" >Process_Path</th>        <th class=\"col_heading level0 col1\" >rate</th>        <th class=\"col_heading level0 col2\" >planned_HC</th>        <th class=\"col_heading level0 col3\" >required_HC</th>        <th class=\"col_heading level0 col4\" >delta</th>        <th class=\"col_heading level0 col5\" >risk</th>    </tr></thead><tbody>\n",
       "                <tr>\n",
       "                        <th id=\"T_f470c9de_eec5_11eb_8be9_087190122595level0_row0\" class=\"row_heading level0 row0\" >0</th>\n",
       "                        <td id=\"T_f470c9de_eec5_11eb_8be9_087190122595row0_col0\" class=\"data row0 col0\" >PPSingleMix</td>\n",
       "                        <td id=\"T_f470c9de_eec5_11eb_8be9_087190122595row0_col1\" class=\"data row0 col1\" >155</td>\n",
       "                        <td id=\"T_f470c9de_eec5_11eb_8be9_087190122595row0_col2\" class=\"data row0 col2\" >7</td>\n",
       "                        <td id=\"T_f470c9de_eec5_11eb_8be9_087190122595row0_col3\" class=\"data row0 col3\" >31.00</td>\n",
       "                        <td id=\"T_f470c9de_eec5_11eb_8be9_087190122595row0_col4\" class=\"data row0 col4\" >-24.00</td>\n",
       "                        <td id=\"T_f470c9de_eec5_11eb_8be9_087190122595row0_col5\" class=\"data row0 col5\" >442.9%</td>\n",
       "            </tr>\n",
       "            <tr>\n",
       "                        <th id=\"T_f470c9de_eec5_11eb_8be9_087190122595level0_row1\" class=\"row_heading level0 row1\" >1</th>\n",
       "                        <td id=\"T_f470c9de_eec5_11eb_8be9_087190122595row1_col0\" class=\"data row1 col0\" >PPMutliBldgWideZone</td>\n",
       "                        <td id=\"T_f470c9de_eec5_11eb_8be9_087190122595row1_col1\" class=\"data row1 col1\" >150</td>\n",
       "                        <td id=\"T_f470c9de_eec5_11eb_8be9_087190122595row1_col2\" class=\"data row1 col2\" >5</td>\n",
       "                        <td id=\"T_f470c9de_eec5_11eb_8be9_087190122595row1_col3\" class=\"data row1 col3\" >6.00</td>\n",
       "                        <td id=\"T_f470c9de_eec5_11eb_8be9_087190122595row1_col4\" class=\"data row1 col4\" >-1.00</td>\n",
       "                        <td id=\"T_f470c9de_eec5_11eb_8be9_087190122595row1_col5\" class=\"data row1 col5\" >120.0%</td>\n",
       "            </tr>\n",
       "            <tr>\n",
       "                        <th id=\"T_f470c9de_eec5_11eb_8be9_087190122595level0_row2\" class=\"row_heading level0 row2\" >2</th>\n",
       "                        <td id=\"T_f470c9de_eec5_11eb_8be9_087190122595row2_col0\" class=\"data row2 col0\" >PPSingleFloor</td>\n",
       "                        <td id=\"T_f470c9de_eec5_11eb_8be9_087190122595row2_col1\" class=\"data row2 col1\" >60</td>\n",
       "                        <td id=\"T_f470c9de_eec5_11eb_8be9_087190122595row2_col2\" class=\"data row2 col2\" >5</td>\n",
       "                        <td id=\"T_f470c9de_eec5_11eb_8be9_087190122595row2_col3\" class=\"data row2 col3\" >20.00</td>\n",
       "                        <td id=\"T_f470c9de_eec5_11eb_8be9_087190122595row2_col4\" class=\"data row2 col4\" >-15.00</td>\n",
       "                        <td id=\"T_f470c9de_eec5_11eb_8be9_087190122595row2_col5\" class=\"data row2 col5\" >400.0%</td>\n",
       "            </tr>\n",
       "            <tr>\n",
       "                        <th id=\"T_f470c9de_eec5_11eb_8be9_087190122595level0_row3\" class=\"row_heading level0 row3\" >3</th>\n",
       "                        <td id=\"T_f470c9de_eec5_11eb_8be9_087190122595row3_col0\" class=\"data row3 col0\" >PPMultiFloorZone</td>\n",
       "                        <td id=\"T_f470c9de_eec5_11eb_8be9_087190122595row3_col1\" class=\"data row3 col1\" >115</td>\n",
       "                        <td id=\"T_f470c9de_eec5_11eb_8be9_087190122595row3_col2\" class=\"data row3 col2\" >3</td>\n",
       "                        <td id=\"T_f470c9de_eec5_11eb_8be9_087190122595row3_col3\" class=\"data row3 col3\" >3.00</td>\n",
       "                        <td id=\"T_f470c9de_eec5_11eb_8be9_087190122595row3_col4\" class=\"data row3 col4\" >0.00</td>\n",
       "                        <td id=\"T_f470c9de_eec5_11eb_8be9_087190122595row3_col5\" class=\"data row3 col5\" >100.0%</td>\n",
       "            </tr>\n",
       "            <tr>\n",
       "                        <th id=\"T_f470c9de_eec5_11eb_8be9_087190122595level0_row4\" class=\"row_heading level0 row4\" >4</th>\n",
       "                        <td id=\"T_f470c9de_eec5_11eb_8be9_087190122595row4_col0\" class=\"data row4 col0\" >PPPickToRebin</td>\n",
       "                        <td id=\"T_f470c9de_eec5_11eb_8be9_087190122595row4_col1\" class=\"data row4 col1\" >130</td>\n",
       "                        <td id=\"T_f470c9de_eec5_11eb_8be9_087190122595row4_col2\" class=\"data row4 col2\" >60</td>\n",
       "                        <td id=\"T_f470c9de_eec5_11eb_8be9_087190122595row4_col3\" class=\"data row4 col3\" >77.00</td>\n",
       "                        <td id=\"T_f470c9de_eec5_11eb_8be9_087190122595row4_col4\" class=\"data row4 col4\" >-17.00</td>\n",
       "                        <td id=\"T_f470c9de_eec5_11eb_8be9_087190122595row4_col5\" class=\"data row4 col5\" >128.3%</td>\n",
       "            </tr>\n",
       "    </tbody></table>"
      ],
      "text/plain": [
       "<pandas.io.formats.style.Styler at 0x20a982ce790>"
      ]
     },
     "execution_count": 16,
     "metadata": {},
     "output_type": "execute_result"
    }
   ],
   "source": [
    "# Print the risk map per Process Path\n",
    "risk_map(calculation_date,Exd,params_tab)"
   ]
  },
  {
   "cell_type": "code",
   "execution_count": null,
   "metadata": {},
   "outputs": [],
   "source": [
    "# Export all tables (subtotals per process path) to an excel file\n",
    "output_file(calculation_date,Exd,params_tab)"
   ]
  },
  {
   "cell_type": "code",
   "execution_count": null,
   "metadata": {},
   "outputs": [],
   "source": [
    "# Export Risk Map\n",
    "output_map(calculation_date,Exd,params_tab)"
   ]
  }
 ],
 "metadata": {
  "kernelspec": {
   "display_name": "Python 3",
   "language": "python",
   "name": "python3"
  },
  "language_info": {
   "codemirror_mode": {
    "name": "ipython",
    "version": 3
   },
   "file_extension": ".py",
   "mimetype": "text/x-python",
   "name": "python",
   "nbconvert_exporter": "python",
   "pygments_lexer": "ipython3",
   "version": "3.8.5"
  }
 },
 "nbformat": 4,
 "nbformat_minor": 4
}
