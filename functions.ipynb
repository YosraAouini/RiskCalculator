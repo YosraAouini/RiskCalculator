{
 "cells": [
  {
   "cell_type": "code",
   "execution_count": null,
   "metadata": {},
   "outputs": [],
   "source": [
    "import pandas as pd\n",
    "import numpy as np\n",
    "from datetime import *"
   ]
  },
  {
   "cell_type": "code",
   "execution_count": null,
   "metadata": {},
   "outputs": [],
   "source": [
    "# Round up function\n",
    "def round_up(number):\n",
    "    if number>0:\n",
    "        return np.ceil(number)\n",
    "    else: \n",
    "        return np.floor(number)"
   ]
  },
  {
   "cell_type": "code",
   "execution_count": null,
   "metadata": {},
   "outputs": [],
   "source": [
    "# Calculate total function\n",
    "def calculate_total(Planned_Subtotal,Picking_Subtotal,Scanned,WorkInProgress_Subtotal):\n",
    "    total=Planned_Subtotal + Picking_Subtotal- Scanned + WorkInProgress_Subtotal\n",
    "    return total\n"
   ]
  },
  {
   "cell_type": "code",
   "execution_count": null,
   "metadata": {},
   "outputs": [],
   "source": [
    "# calculate required HC\n",
    "def calculate_Required_HC(Accumulated_Totals,Hours_of_Processing,Rate,Safety_Buffer):\n",
    "    Required_HC= round_up(Accumulated_Totals/((1.0-Safety_Buffer)*Hours_of_Processing * Rate))\n",
    "    return Required_HC"
   ]
  },
  {
   "cell_type": "code",
   "execution_count": null,
   "metadata": {},
   "outputs": [],
   "source": [
    "# Define time calculation scoop \n",
    "def define_time_calculation_scoop(calculation_date,times_tab):\n",
    "    date_time=[]\n",
    "    date_ref=datetime.strptime(calculation_date+' ' +'23:59', '%Y-%m-%d %H:%M')\n",
    "    time_ref=date_ref.time()\n",
    "    min_time=datetime.strptime(times_tab[0],'%H:%M').time()\n",
    "    max_time=datetime.strptime(times_tab[len(times_tab)-1],'%H:%M').time()\n",
    "    for i in range(10):\n",
    "        date_time_obj =datetime.strptime(calculation_date+' ' +times_tab[i], '%Y-%m-%d %H:%M')\n",
    "        if(date_time_obj.time()>=min_time and date_time_obj.time()<= time_ref):\n",
    "            date_time.append(date_time_obj)\n",
    "        else: \n",
    "             date_time.append(date_time_obj+ timedelta(days=1)) \n",
    "    return date_time"
   ]
  },
  {
   "cell_type": "code",
   "execution_count": null,
   "metadata": {},
   "outputs": [],
   "source": [
    "# Calculate subtotals per process path\n",
    "def subtotal_function(calculation_date,data,process_path_name,params_tab):\n",
    "\tscanned_per_date=[]\n",
    "\tplanned_subtotal_per_date=[]\n",
    "\tpicking_subtotal_per_date=[]\n",
    "\twork_in_progress_subtotal_per_date=[]\n",
    "\tdate_time=define_time_calculation_scoop(calculation_date,times)\n",
    "        \n",
    "\tfor i in range(len(date_time)):\n",
    "\t    scanned_i=sum(data[(data.ExSD==date_time[i]) & (data.Work_Pool=='Scanned') & (data.Process_Path==process_path_name)].Quantity)\n",
    "\t    scanned_per_date.append(scanned_i)\n",
    "\t    \n",
    "\t    predicted_charge_i=sum(data[(data.ExSD==date_time[i]) & (data.Work_Pool=='PredictedCharge') & (data.Process_Path==process_path_name)].Quantity)\n",
    "\t    planned_subtotal_per_date.append(predicted_charge_i)\n",
    "\t    \n",
    "\t    PickingNotYetPicked_i=sum(data[(data.ExSD==date_time[i]) & (data.Work_Pool=='PickingNotYetPicked') & (data.Process_Path==process_path_name)].Quantity)\n",
    "\t    ReadyToPick_i=sum(data[(data.ExSD==date_time[i]) & (data.Work_Pool=='ReadyToPick') & (data.Process_Path==process_path_name)].Quantity)\n",
    "\t    Picking_i=PickingNotYetPicked_i+ReadyToPick_i\n",
    "\t    picking_subtotal_per_date.append(Picking_i)\n",
    "\t    \n",
    "\t    PickingPicked_i=sum(data[(data.ExSD==date_time[i]) & (data.Work_Pool=='PickingPicked') & (data.Process_Path==process_path_name)].Quantity)\n",
    "\t    Sorted_i=sum(data[(data.ExSD==date_time[i]) & (data.Work_Pool=='Sorted') & (data.Process_Path==process_path_name)].Quantity) \n",
    "\t    Packing_i=sum(data[(data.ExSD==date_time[i]) & (data.Work_Pool=='Packing') & (data.Process_Path==process_path_name)].Quantity)     \n",
    "\t    Scanned_i=sum(data[(data.ExSD==date_time[i]) & (data.Work_Pool=='Scanned') & (data.Process_Path==process_path_name)].Quantity)\n",
    "\t    ProblemSolving_i=sum(data[(data.ExSD==date_time[i]) & (data.Work_Pool=='ProblemSolving') & (data.Process_Path==process_path_name)].Quantity) \n",
    "\t    RebinBuffered_i=sum(data[(data.ExSD==date_time[i]) & (data.Work_Pool=='RebinBuffered') & (data.Process_Path==process_path_name)].Quantity) \n",
    "\n",
    "\t    Work_in_progress_i=PickingPicked_i+Sorted_i+Packing_i+Scanned_i+ProblemSolving_i+RebinBuffered_i\n",
    "\t    work_in_progress_subtotal_per_date.append(Work_in_progress_i)\n",
    "\t    \n",
    "\n",
    "\tsubtotals=pd.DataFrame(list(zip(date_time,coef_hours_of_processing,planned_subtotal_per_date,picking_subtotal_per_date, scanned_per_date,work_in_progress_subtotal_per_date))\n",
    "\t\t\t       ,columns =['date_time', 'coef_hours_of_processing','planned_subtotal_per_date','picking_subtotal_per_date','scanned_per_date','work_in_progress_subtotal_per_date'])\n",
    "\n",
    "\tsubtotals['total']=calculate_total(subtotals.planned_subtotal_per_date,subtotals.picking_subtotal_per_date,subtotals.scanned_per_date,subtotals.work_in_progress_subtotal_per_date)\n",
    "\tseries = pd.Series(subtotals.total)\n",
    "\tsubtotals['accumulated_totals']= series.cumsum()\n",
    "\n",
    "\tRequired_HC_list=[]\n",
    "\trate=params_tab.loc[params_tab.process_path_name==process_path_name].rate.item()\n",
    "\tsubtotals['rate']=rate\n",
    "\tfor i in range(subtotals.shape[0]):\n",
    "\t    Required_HC_i=calculate_Required_HC(subtotals.accumulated_totals[i],subtotals.coef_hours_of_processing[i],rate,Safety_Buffer)\n",
    "\t    Required_HC_list.append(Required_HC_i)\n",
    "\tsubtotals['Required_HC']=Required_HC_list\n",
    "\tmax_required_HC=max(subtotals.loc[0:8,'Required_HC'])\n",
    "\tsubtotals['max_required_HC']=max_required_HC\n",
    "\texpected_HC=params_tab.loc[params_tab.process_path_name==process_path_name].PlannedHC.item()\n",
    "\tsubtotals['expected_HC']=expected_HC\n",
    "\tdelta=expected_HC-max_required_HC\n",
    "\trisk=max_required_HC/expected_HC\n",
    "\tsubtotals['delta']=delta\n",
    "\tsubtotals['risk']=risk\n",
    "    \n",
    "\treturn subtotals"
   ]
  },
  {
   "cell_type": "code",
   "execution_count": null,
   "metadata": {},
   "outputs": [],
   "source": [
    "def subtotals(calculation_date,data,params_tab):\n",
    "    subtotals_all=[]\n",
    "    Process_Path_all_list=data.Process_Path.unique()\n",
    "    Process_Path_list=Process_Path_all_list[Process_Path_all_list!='PPMultiGiftWrapZone']\n",
    "    for i in range(len(Process_Path_list)):\n",
    "        subtotals_all.append(subtotal_function(calculation_date,data,Process_Path_list[i],params_tab))\n",
    "    return subtotals_all"
   ]
  },
  {
   "cell_type": "code",
   "execution_count": null,
   "metadata": {},
   "outputs": [],
   "source": [
    "# Calculate the risk per process path\n",
    "def risk_calculator(calculation_date,data,params_tab):\n",
    "    Process_Path_all_list=data.Process_Path.unique()\n",
    "    Process_Path_list=Process_Path_all_list[Process_Path_all_list!='PPMultiGiftWrapZone']\n",
    "    risk_Process_Path_list=[]\n",
    "    delta_Process_Path_list=[]\n",
    "    max_required_HC_list=[]\n",
    "    planned_HC_list=[]\n",
    "    rate_list=[]\n",
    "    for i in range(len(Process_Path_list)):\n",
    "        subtotals_all=subtotals(calculation_date,data,params_tab)\n",
    "        risk_perc=subtotals_all[i].risk[0]\n",
    "        risk_Process_Path_list.append(risk_perc)\n",
    "        delta_Process_Path_list.append(subtotals_all[i].delta[0])\n",
    "        max_required_HC_list.append(subtotals_all[i].max_required_HC[0])\n",
    "        rate_list.append(subtotals_all[i].rate[0])\n",
    "        planned_HC_list.append(subtotals_all[i].expected_HC[0])\n",
    "\n",
    "    risk_Process_Path=pd.DataFrame(list(zip(Process_Path_list,rate_list,planned_HC_list,max_required_HC_list,delta_Process_Path_list,risk_Process_Path_list)),columns=['Process_Path','rate','planned_HC','required_HC','delta','risk'])\n",
    "    return risk_Process_Path"
   ]
  },
  {
   "cell_type": "code",
   "execution_count": 10,
   "metadata": {},
   "outputs": [],
   "source": [
    "# Function to plot the risk map per process path\n",
    "def risk_map(calculation_date,data,params_tab):\n",
    "    df=risk_calculator(calculation_date,data,params_tab)\n",
    "    cm=sns.diverging_palette(-200, 10, l=40,s=80,n=4,as_cmap=True)\n",
    "    s = df.style.background_gradient(cmap=cm, subset=['risk']).format({'risk': \"{:.1%}\"}).format({'delta': \"{:.2f}\"}).format({'required_HC': \"{:.2f}\"})  \n",
    "    return s"
   ]
  },
  {
   "cell_type": "code",
   "execution_count": null,
   "metadata": {},
   "outputs": [],
   "source": [
    "# Calculate subtotals per process path\n",
    "def subtotal_per_process_path(calculation_date,data,params_tab,process_path_name):\n",
    "    subtotals_all=subtotals(calculation_date,data,params_tab)\n",
    "    Process_Path_all_list=data.Process_Path.unique()\n",
    "    Process_Path_list=Process_Path_all_list[Process_Path_all_list!='PPMultiGiftWrapZone']\n",
    "    output = [idx for idx, element in enumerate(Process_Path_list) if element==process_path_name]\n",
    "    return subtotals_all[output[0]]"
   ]
  },
  {
   "cell_type": "code",
   "execution_count": null,
   "metadata": {},
   "outputs": [],
   "source": [
    "# Function to write subtotals details per process path to an excel file\n",
    "def output_file(calculation_date,data,params_tab):\n",
    "    file_name='risk calculator ' + str(calculation_date)+'.xlsx'\n",
    "    writer = pd.ExcelWriter(file_name, engine='openpyxl') \n",
    "    subtotals_all=subtotals(calculation_date,data,params_tab)\n",
    "    Process_Path_all_list=data.Process_Path.unique()\n",
    "    Process_Path_list=Process_Path_all_list[Process_Path_all_list!='PPMultiGiftWrapZone']\n",
    "    for i in range(len(subtotals_all)):\n",
    "        l=i*20+2\n",
    "        subtotals_all[i].to_excel(writer, \"Main\",index=False,startrow= l, startcol=1) \n",
    "        Process_Path_pd=pd.DataFrame([[Process_Path_list[i]]], columns=list(' '))\n",
    "        Process_Path_pd.to_excel(writer, \"Main\",index=False,header=False,startrow=l-2 , startcol=0) \n",
    "    writer.save()\n",
    "   "
   ]
  },
  {
   "cell_type": "code",
   "execution_count": 11,
   "metadata": {},
   "outputs": [],
   "source": [
    "# Function to export the risk map to an excel file\n",
    "def output_map(calculation_date,data,params_tab):\n",
    "    file_name='Risk Map ' + str(calculation_date)+'.xlsx'\n",
    "    writer = pd.ExcelWriter(file_name, engine='openpyxl') \n",
    "    risk_map(calculation_date,Exd,params_tab).to_excel(writer, \"Main\",index=False,header=True ) \n",
    "    writer.save()\n",
    "   "
   ]
  }
 ],
 "metadata": {
  "kernelspec": {
   "display_name": "Python 3",
   "language": "python",
   "name": "python3"
  },
  "language_info": {
   "codemirror_mode": {
    "name": "ipython",
    "version": 3
   },
   "file_extension": ".py",
   "mimetype": "text/x-python",
   "name": "python",
   "nbconvert_exporter": "python",
   "pygments_lexer": "ipython3",
   "version": "3.8.5"
  }
 },
 "nbformat": 4,
 "nbformat_minor": 4
}
